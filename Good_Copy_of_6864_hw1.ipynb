{
  "nbformat": 4,
  "nbformat_minor": 0,
  "metadata": {
    "colab": {
      "name": "Good Copy of 6864-hw1",
      "provenance": [],
      "collapsed_sections": [],
      "machine_shape": "hm",
      "include_colab_link": true
    },
    "kernelspec": {
      "name": "python3",
      "display_name": "Python 3"
    },
    "accelerator": "GPU"
  },
  "cells": [
    {
      "cell_type": "markdown",
      "metadata": {
        "id": "view-in-github",
        "colab_type": "text"
      },
      "source": [
        "<a href=\"https://colab.research.google.com/github/weissercn/Eta_to_Ap_Gamma_Search/blob/master/Good_Copy_of_6864_hw1.ipynb\" target=\"_parent\"><img src=\"https://colab.research.google.com/assets/colab-badge.svg\" alt=\"Open In Colab\"/></a>"
      ]
    },
    {
      "cell_type": "code",
      "metadata": {
        "id": "FU7xWiY6TyWS",
        "colab_type": "code",
        "colab": {
          "base_uri": "https://localhost:8080/",
          "height": 34
        },
        "outputId": "865c1d37-7029-4dc3-ee36-698019a578fa"
      },
      "source": [
        "%%bash\n",
        "!(stat -t /usr/local/lib/*/dist-packages/google/colab > /dev/null 2>&1) && exit \n",
        "rm -rf 6864-hw1\n",
        "git clone https://github.com/lingo-mit/6864-hw1.git"
      ],
      "execution_count": 1,
      "outputs": [
        {
          "output_type": "stream",
          "text": [
            "Cloning into '6864-hw1'...\n"
          ],
          "name": "stderr"
        }
      ]
    },
    {
      "cell_type": "code",
      "metadata": {
        "id": "A0MHaHrdUACZ",
        "colab_type": "code",
        "colab": {}
      },
      "source": [
        "import sys\n",
        "sys.path.append(\"/content/6864-hw1\")\n",
        "\n",
        "import csv\n",
        "import itertools as it\n",
        "import numpy as np\n",
        "np.random.seed(0)\n",
        "\n",
        "import lab_util"
      ],
      "execution_count": 0,
      "outputs": []
    },
    {
      "cell_type": "markdown",
      "metadata": {
        "id": "cZ3MUj4iUf76",
        "colab_type": "text"
      },
      "source": [
        "## Introduction\n",
        "\n",
        "In this lab, you'll explore three different ways of using unlabeled text data to learn pretrained word representations. Your lab report will describe the effects of different modeling decisions (representation learning objective, context size, etc.) on both qualitative properties of learned representations and their effect on a downstream prediction problem.\n",
        "\n",
        "**General lab report guidelines**\n",
        "\n",
        "Homework assignments should be submitted in the form of a research report. (We'll be providing a place to upload them before the due date, but are still sorting out some logistics.) Please upload PDFs, with a maximum of four single-spaced pages. (If you want you can use the [Association for Computational Linguistics style files](http://acl2020.org/downloads/acl2020-templates.zip).) Reports should have one section for each part of the homework assignment below. Each section should describe the details of your code implementation, and include whatever charts / tables are necessary to answer the set of questions at the end of the corresponding homework part.\n"
      ]
    },
    {
      "cell_type": "markdown",
      "metadata": {
        "id": "gG654Y9J3yHw",
        "colab_type": "text"
      },
      "source": [
        "\n",
        "We're going to be working with a dataset of product reviews. It looks like this:"
      ]
    },
    {
      "cell_type": "code",
      "metadata": {
        "id": "JwiX-Tc9V1xI",
        "colab_type": "code",
        "colab": {
          "base_uri": "https://localhost:8080/",
          "height": 367
        },
        "outputId": "56d6bf01-370e-4b1d-b1ca-bb8fc3135e06"
      },
      "source": [
        "data = []\n",
        "n_positive = 0\n",
        "n_disp = 0\n",
        "with open(\"/content/6864-hw1/reviews.csv\") as reader:\n",
        "  csvreader = csv.reader(reader)\n",
        "  next(csvreader)\n",
        "  for id, review, label in csvreader:\n",
        "    label = int(label)\n",
        "\n",
        "    # hacky class balancing\n",
        "    if label == 1:\n",
        "      if n_positive == 2000:\n",
        "        continue\n",
        "      n_positive += 1\n",
        "    if len(data) == 4000:\n",
        "      break\n",
        "\n",
        "    data.append((review, label))\n",
        "    \n",
        "    if n_disp > 5:\n",
        "      continue\n",
        "    n_disp += 1\n",
        "    print(\"review:\", review)\n",
        "    print(\"rating:\", label, \"(good)\" if label == 1 else \"(bad)\")\n",
        "    print()\n",
        "\n",
        "print(f\"Read {len(data)} total reviews.\")\n",
        "np.random.shuffle(data)\n",
        "reviews, labels = zip(*data)\n",
        "train_reviews = reviews[:3000]\n",
        "train_labels = labels[:3000]\n",
        "val_reviews = reviews[3000:3500]\n",
        "val_labels = labels[3000:3500]\n",
        "test_reviews = reviews[3500:]\n",
        "test_labels = labels[3500:]"
      ],
      "execution_count": 3,
      "outputs": [
        {
          "output_type": "stream",
          "text": [
            "review: I have bought several of the Vitality canned dog food products and have found them all to be of good quality. The product looks more like a stew than a processed meat and it smells better. My Labrador is finicky and she appreciates this product better than  most.\n",
            "rating: 1 (good)\n",
            "\n",
            "review: Product arrived labeled as Jumbo Salted Peanuts...the peanuts were actually small sized unsalted. Not sure if this was an error or if the vendor intended to represent the product as \"Jumbo\".\n",
            "rating: 0 (bad)\n",
            "\n",
            "review: This is a confection that has been around a few centuries.  It is a light, pillowy citrus gelatin with nuts - in this case Filberts. And it is cut into tiny squares and then liberally coated with powdered sugar.  And it is a tiny mouthful of heaven.  Not too chewy, and very flavorful.  I highly recommend this yummy treat.  If you are familiar with the story of C.S. Lewis' \"The Lion, The Witch, and The Wardrobe\" - this is the treat that seduces Edmund into selling out his Brother and Sisters to the Witch.\n",
            "rating: 1 (good)\n",
            "\n",
            "review: If you are looking for the secret ingredient in Robitussin I believe I have found it.  I got this in addition to the Root Beer Extract I ordered (which was good) and made some cherry soda.  The flavor is very medicinal.\n",
            "rating: 0 (bad)\n",
            "\n",
            "review: Great taffy at a great price.  There was a wide assortment of yummy taffy.  Delivery was very quick.  If your a taffy lover, this is a deal.\n",
            "rating: 1 (good)\n",
            "\n",
            "review: I got a wild hair for taffy and ordered this five pound bag. The taffy was all very enjoyable with many flavors: watermelon, root beer, melon, peppermint, grape, etc. My only complaint is there was a bit too much red/black licorice-flavored pieces (just not my particular favorites). Between me, my kids, and my husband, this lasted only two weeks! I would recommend this brand of taffy -- it was a delightful treat.\n",
            "rating: 1 (good)\n",
            "\n",
            "Read 4000 total reviews.\n"
          ],
          "name": "stdout"
        }
      ]
    },
    {
      "cell_type": "markdown",
      "metadata": {
        "id": "8h4k40QoXFO5",
        "colab_type": "text"
      },
      "source": [
        "We've provided a little bit of helper code for reading in the dataset; your job is to implement the learning!"
      ]
    },
    {
      "cell_type": "markdown",
      "metadata": {
        "id": "twLHWqM6Z5xD",
        "colab_type": "text"
      },
      "source": [
        "## Part 1: word representations via matrix factorization\n",
        "\n",
        "First, we'll construct the term--document matrix (look at `/content/6864-hw1/lab_util.py` in the file browser on the left if you want to see how this works)."
      ]
    },
    {
      "cell_type": "code",
      "metadata": {
        "id": "3WPt6Y7-Z_7P",
        "colab_type": "code",
        "colab": {
          "base_uri": "https://localhost:8080/",
          "height": 34
        },
        "outputId": "4f20ec9d-9a9c-44a3-c3b9-031792fbb51d"
      },
      "source": [
        "vectorizer = lab_util.CountVectorizer()\n",
        "vectorizer.fit(train_reviews)\n",
        "td_matrix = vectorizer.transform(train_reviews).T\n",
        "print(f\"TD matrix is {td_matrix.shape[0]} x {td_matrix.shape[1]}\")"
      ],
      "execution_count": 4,
      "outputs": [
        {
          "output_type": "stream",
          "text": [
            "TD matrix is 2006 x 3000\n"
          ],
          "name": "stdout"
        }
      ]
    },
    {
      "cell_type": "markdown",
      "metadata": {
        "id": "hd3-pw4XbD4B",
        "colab_type": "text"
      },
      "source": [
        "First, implement a function that computes word representations via latent semantic analysis:"
      ]
    },
    {
      "cell_type": "code",
      "metadata": {
        "id": "KASVs8KubeBE",
        "colab_type": "code",
        "colab": {}
      },
      "source": [
        "def learn_reps_lsa(matrix, rep_size):\n",
        "  # `matrix` is a `|V| x n` matrix, where `|V|` is the number of words in the\n",
        "  # vocabulary. This function should return a `|V| x rep_size` matrix with each\n",
        "  # row corresponding to a word representation. The `sklearn.decomposition` \n",
        "  # package may be useful.\n",
        "\n",
        "  # Your code here!\n",
        "    from sklearn.decomposition import TruncatedSVD\n",
        "    svd = TruncatedSVD(n_components=rep_size, n_iter=7, random_state=42)\n",
        "    svd.fit(matrix)\n",
        "    return svd.transform(matrix)"
      ],
      "execution_count": 0,
      "outputs": []
    },
    {
      "cell_type": "code",
      "metadata": {
        "id": "_4Ka7ZWUFBcc",
        "colab_type": "code",
        "colab": {
          "base_uri": "https://localhost:8080/",
          "height": 903
        },
        "outputId": "e8f20a68-d303-4b37-8d02-fb97816d3454"
      },
      "source": [
        "def learn_reps_lsa_test(matrix, rep_size):\n",
        "  # `matrix` is a `|V| x n` matrix, where `|V|` is the number of words in the\n",
        "  # vocabulary. This function should return a `|V| x rep_size` matrix with each\n",
        "  # row corresponding to a word representation. The `sklearn.decomposition` \n",
        "  # package may be useful.\n",
        "\n",
        "  # Your code here!\n",
        "    from sklearn.decomposition import TruncatedSVD\n",
        "    svd = TruncatedSVD(n_components=rep_size, n_iter=7, random_state=42)\n",
        "    svd.fit(matrix)\n",
        "    res = svd.transform(matrix)\n",
        "    from scipy import linalg\n",
        "    U, s, Vh = linalg.svd(res)\n",
        "    U1, s1, Vh1 = linalg.svd(matrix)\n",
        "    U2, s2, Vh2 = linalg.svd(np.matmul(res, res.transpose() ))\n",
        "    U3, s3, Vh3 = linalg.svd(np.matmul(matrix, matrix.transpose() ))\n",
        "    print(\"U\", U, U2)\n",
        "    print(\"U\", U1,U3)\n",
        "    print(U.shape, U1.shape, U2.shape, U3.shape)\n",
        "    \n",
        "    return svd.get_params()\n",
        "U =learn_reps_lsa_test(td_matrix, 500)"
      ],
      "execution_count": 6,
      "outputs": [
        {
          "output_type": "stream",
          "text": [
            "U [[-6.89031937e-01 -6.72372892e-01  1.78411037e-01 ...  2.54319531e-04\n",
            "   2.03106361e-04 -2.07221953e-03]\n",
            " [-2.31553598e-02  5.20963554e-02 -1.21153239e-02 ...  1.25874572e-03\n",
            "  -3.12207734e-03  4.00310656e-03]\n",
            " [-3.83301968e-02  4.29225155e-02 -1.93856196e-02 ...  1.27053012e-03\n",
            "  -1.40084451e-03  8.97751537e-04]\n",
            " ...\n",
            " [-3.17231578e-04  6.50245704e-04 -1.52675912e-03 ...  9.68889507e-01\n",
            "   1.86446326e-03 -7.28153447e-04]\n",
            " [-4.42263586e-04  2.14287700e-04  4.98282343e-04 ...  4.26442928e-04\n",
            "   9.81787254e-01 -1.22439074e-03]\n",
            " [-2.76302849e-03 -1.39797955e-02  5.86256685e-03 ...  5.39120990e-04\n",
            "  -4.45575283e-03  7.95273211e-01]] [[-6.89031937e-01  6.72372892e-01  1.78411037e-01 ... -1.05230763e-03\n",
            "  -6.17478003e-03  8.48553559e-04]\n",
            " [-2.31553598e-02 -5.20963554e-02 -1.21153239e-02 ...  5.89750501e-03\n",
            "  -1.76333031e-02  2.69489740e-02]\n",
            " [-3.83301968e-02 -4.29225155e-02 -1.93856196e-02 ... -6.03945671e-03\n",
            "  -1.36362303e-02 -1.74960448e-02]\n",
            " ...\n",
            " [-3.17231578e-04 -6.50245704e-04 -1.52675912e-03 ...  4.88802843e-03\n",
            "  -1.20449786e-02 -1.06439069e-02]\n",
            " [-4.42263586e-04 -2.14287700e-04  4.98282343e-04 ...  1.86763418e-02\n",
            "   1.94653776e-02 -1.65362999e-02]\n",
            " [-2.76302849e-03  1.39797955e-02  5.86256685e-03 ...  2.51548027e-02\n",
            "   5.04451355e-02  1.03161302e-02]]\n",
            "U [[ 6.89031937e-01  6.72372892e-01  1.78411037e-01 ...  5.13700980e-05\n",
            "   1.36794723e-21 -3.92241800e-20]\n",
            " [ 2.31553598e-02 -5.20963554e-02 -1.21153239e-02 ... -1.71082540e-05\n",
            "  -6.62031363e-18 -1.47116322e-18]\n",
            " [ 3.83301968e-02 -4.29225155e-02 -1.93856196e-02 ...  4.32473026e-04\n",
            "   9.83299612e-18  4.67188690e-18]\n",
            " ...\n",
            " [ 3.17231578e-04 -6.50245704e-04 -1.52675912e-03 ...  2.39091962e-03\n",
            "  -5.42117020e-17 -5.93870946e-17]\n",
            " [ 4.42263586e-04 -2.14287700e-04  4.98282343e-04 ... -1.15934843e-02\n",
            "   2.13613803e-16  1.16716819e-16]\n",
            " [ 2.76302849e-03  1.39797955e-02  5.86256685e-03 ...  9.53740138e-03\n",
            "   1.67355993e-17  3.48104400e-16]] [[-6.89031937e-01  6.72372892e-01  1.78411037e-01 ...  5.13700980e-05\n",
            "   3.35427360e-18  3.03527002e-19]\n",
            " [-2.31553598e-02 -5.20963554e-02 -1.21153239e-02 ... -1.71082541e-05\n",
            "  -2.52381903e-17  2.77028285e-17]\n",
            " [-3.83301968e-02 -4.29225155e-02 -1.93856196e-02 ...  4.32473026e-04\n",
            "   2.22627435e-17 -1.87185506e-17]\n",
            " ...\n",
            " [-3.17231578e-04 -6.50245704e-04 -1.52675912e-03 ...  2.39091962e-03\n",
            "   2.67934253e-16  1.00579829e-16]\n",
            " [-4.42263586e-04 -2.14287700e-04  4.98282343e-04 ... -1.15934843e-02\n",
            "  -1.59470653e-16 -4.69572539e-16]\n",
            " [-2.76302849e-03  1.39797955e-02  5.86256685e-03 ...  9.53740138e-03\n",
            "   1.66122301e-15  1.97027228e-16]]\n",
            "(2006, 2006) (2006, 2006) (2006, 2006) (2006, 2006)\n"
          ],
          "name": "stdout"
        }
      ]
    },
    {
      "cell_type": "markdown",
      "metadata": {
        "id": "SKWzRC0dclVK",
        "colab_type": "text"
      },
      "source": [
        "Let's look at some representations:"
      ]
    },
    {
      "cell_type": "code",
      "metadata": {
        "id": "-Ad7RZkwceWw",
        "colab_type": "code",
        "colab": {
          "base_uri": "https://localhost:8080/",
          "height": 746
        },
        "outputId": "595c6c34-f332-4060-b7e6-23548ce42fa9"
      },
      "source": [
        "reps = learn_reps_lsa(td_matrix, 500)\n",
        "words = [\"good\", \"bad\", \"cookie\", \"jelly\", \"dog\", \"the\", \"4\"]\n",
        "show_tokens = [vectorizer.tokenizer.word_to_token[word] for word in words]\n",
        "lab_util.show_similar_words(vectorizer.tokenizer, reps, show_tokens)"
      ],
      "execution_count": 7,
      "outputs": [
        {
          "output_type": "stream",
          "text": [
            "good 47\n",
            "  . 1.056\n",
            "  a 1.101\n",
            "  but 1.121\n",
            "  , 1.152\n",
            "  the 1.157\n",
            "bad 201\n",
            "  . 1.396\n",
            "  taste 1.417\n",
            "  but 1.434\n",
            "  a 1.435\n",
            "  i 1.449\n",
            "cookie 504\n",
            "  nana's 0.796\n",
            "  cookies 1.025\n",
            "  oreos 1.282\n",
            "  bars 1.382\n",
            "  bites 1.405\n",
            "jelly 351\n",
            "  twist 1.091\n",
            "  cardboard 1.227\n",
            "  peanuts 1.400\n",
            "  advertised 1.405\n",
            "  plastic 1.468\n",
            "dog 925\n",
            "  food 1.049\n",
            "  pet 1.066\n",
            "  pets 1.069\n",
            "  switched 1.205\n",
            "  foods 1.228\n",
            "the 36\n",
            "  . 0.331\n",
            "  <unk> 0.366\n",
            "  of 0.395\n",
            "  and 0.403\n",
            "  to 0.422\n",
            "4 292\n",
            "  1 1.047\n",
            "  6 1.121\n",
            "  70 1.135\n",
            "  stevia 1.196\n",
            "  concentrated 1.245\n"
          ],
          "name": "stdout"
        }
      ]
    },
    {
      "cell_type": "markdown",
      "metadata": {
        "id": "LsOAGLB3iRjT",
        "colab_type": "text"
      },
      "source": [
        "We've been operating on the raw count matrix, but in class we discussed several reweighting schemes aimed at making LSA representations more informative. \n",
        "\n",
        "Here, implement the TF-IDF transform and see how it affects learned representations."
      ]
    },
    {
      "cell_type": "code",
      "metadata": {
        "id": "1y3PmW-IgpqA",
        "colab_type": "code",
        "colab": {}
      },
      "source": [
        "def transform_tfidf(matrix):\n",
        "  # `matrix` is a `|V| x |D|` matrix of raw counts, where `|V|` is the \n",
        "  # vocabulary size and `|D|` is the number of documents in the corpus. This\n",
        "  # function should (nondestructively) return a version of `matrix` with the\n",
        "  # TF-IDF transform appliied.\n",
        "\n",
        "  # Your code here!\n",
        "    #matrix #token, documents\n",
        "    V, D = matrix.shape\n",
        "    \n",
        "    idf = np.count_nonzero(matrix, axis=1)\n",
        "    idf = np.log(D/idf).reshape(-1,1)\n",
        "    \n",
        "    return matrix * idf, idf"
      ],
      "execution_count": 0,
      "outputs": []
    },
    {
      "cell_type": "markdown",
      "metadata": {
        "id": "xOprgqzHi7bk",
        "colab_type": "text"
      },
      "source": [
        "How does this change the learned similarity function?"
      ]
    },
    {
      "cell_type": "code",
      "metadata": {
        "id": "SV5xKLYTi7LA",
        "colab_type": "code",
        "colab": {
          "base_uri": "https://localhost:8080/",
          "height": 746
        },
        "outputId": "7d6a1ad8-486c-408b-ccd2-e9530b8b81c5"
      },
      "source": [
        "td_matrix_tfidf, idf = transform_tfidf(td_matrix)\n",
        "reps_tfidf = learn_reps_lsa(td_matrix_tfidf, 1000)\n",
        "lab_util.show_similar_words(vectorizer.tokenizer, reps_tfidf, show_tokens)"
      ],
      "execution_count": 9,
      "outputs": [
        {
          "output_type": "stream",
          "text": [
            "good 47\n",
            "  . 1.028\n",
            "  a 1.082\n",
            "  but 1.103\n",
            "  and 1.138\n",
            "  the 1.143\n",
            "bad 201\n",
            "  . 1.379\n",
            "  taste 1.412\n",
            "  but 1.422\n",
            "  a 1.425\n",
            "  i 1.440\n",
            "cookie 504\n",
            "  nana's 0.988\n",
            "  cookies 1.282\n",
            "  oreos 1.545\n",
            "  moist 1.551\n",
            "  bars 1.553\n",
            "jelly 351\n",
            "  twist 1.312\n",
            "  softer 1.530\n",
            "  cardboard 1.541\n",
            "  plum 1.624\n",
            "  advertised 1.634\n",
            "dog 925\n",
            "  food 1.050\n",
            "  pets 1.162\n",
            "  pet 1.182\n",
            "  foods 1.257\n",
            "  dogs 1.311\n",
            "the 36\n",
            "  . 0.263\n",
            "  <unk> 0.328\n",
            "  and 0.341\n",
            "  of 0.362\n",
            "  to 0.383\n",
            "4 292\n",
            "  1 1.053\n",
            "  6 1.132\n",
            "  stevia 1.210\n",
            "  70 1.264\n",
            "  5 1.322\n"
          ],
          "name": "stdout"
        }
      ]
    },
    {
      "cell_type": "markdown",
      "metadata": {
        "id": "HO-NG4u1kG9z",
        "colab_type": "text"
      },
      "source": [
        "Now that we have some representations, let's see if we can do something useful with them.\n",
        "\n",
        "Below, implement a feature function that represents a document as the sum of its\n",
        "learned word embeddings.\n",
        "\n",
        "The remaining code trains a logistic regression model on a set of *labeled* reviews; we're interested in seeing how much representations learned from *unlabeled* reviews improve classification."
      ]
    },
    {
      "cell_type": "code",
      "metadata": {
        "id": "6B08xvIFlee3",
        "colab_type": "code",
        "colab": {
          "base_uri": "https://localhost:8080/",
          "height": 173
        },
        "outputId": "c208b92d-4d4b-43a3-8137-523b94b96f74"
      },
      "source": [
        "def word_featurizer(xs):\n",
        "  # normalize\n",
        "  return xs / np.sqrt((xs ** 2).sum(axis=1, keepdims=True))\n",
        "\n",
        "def lsa_featurizer(xs):\n",
        "  # This function takes in a matrix in which each row contains the word counts\n",
        "  # for the given review. It should return a matrix in which each row contains\n",
        "  # the learned feature representation of each review (e.g. the sum of LSA \n",
        "  # word representations).\n",
        "    \n",
        "  #xs.shape nexamples, nwords\n",
        "\n",
        "  xs_tfidf = (xs.T * idf).T\n",
        "  feats = np.dot(xs_tfidf, reps_tfidf)\n",
        "  \n",
        "\n",
        "  #feats = np.dot(xs, reps) # None # Your code here!\n",
        "\n",
        "  # normalize\n",
        "  return feats / np.sqrt((feats ** 2).sum(axis=1, keepdims=True)) # averages over example\n",
        "\n",
        "def combo_featurizer(xs):\n",
        "  return np.concatenate((word_featurizer(xs), lsa_featurizer(xs)), axis=1) # (2,3) and (2,3) arrays concatenated to (2,6)\n",
        "\n",
        "def train_model(featurizer, xs, ys):\n",
        "  import sklearn.linear_model\n",
        "  xs_featurized = featurizer(xs)\n",
        "  model = sklearn.linear_model.LogisticRegression()\n",
        "  model.fit(xs_featurized, ys)\n",
        "  return model\n",
        "\n",
        "def eval_model(model, featurizer, xs, ys):\n",
        "  xs_featurized = featurizer(xs)\n",
        "  pred_ys = model.predict(xs_featurized)\n",
        "  print(\"test accuracy\", np.mean(pred_ys == ys))\n",
        "\n",
        "def training_experiment(name, featurizer, n_train):\n",
        "  print(f\"{name} features, {n_train} examples\")\n",
        "  train_xs = vectorizer.transform(train_reviews[:n_train])\n",
        "  train_ys = train_labels[:n_train]\n",
        "  test_xs = vectorizer.transform(test_reviews)\n",
        "  test_ys = test_labels\n",
        "  model = train_model(featurizer, train_xs, train_ys)\n",
        "  eval_model(model, featurizer, test_xs, test_ys)\n",
        "  print()\n",
        "\n",
        "training_experiment(\"word\", word_featurizer, 1000)\n",
        "training_experiment(\"lsa\", lsa_featurizer, 1000)\n",
        "training_experiment(\"combo\", combo_featurizer, 1000)"
      ],
      "execution_count": 33,
      "outputs": [
        {
          "output_type": "stream",
          "text": [
            "word features, 3000 examples\n",
            "test accuracy 0.784\n",
            "\n",
            "lsa features, 3000 examples\n",
            "test accuracy 0.792\n",
            "\n",
            "combo features, 3000 examples\n",
            "test accuracy 0.81\n",
            "\n"
          ],
          "name": "stdout"
        }
      ]
    },
    {
      "cell_type": "markdown",
      "metadata": {
        "id": "rpXziVNrlfp2",
        "colab_type": "text"
      },
      "source": [
        "**Part 1: Lab writeup**\n",
        "\n",
        "Part 1 of your lab report should discuss any implementation details that were important to filling out the code above. Then, use the code to set up experiments that answer the following questions:\n",
        "\n",
        "1. Qualitatively, what do you observe about nearest neighbors in representation    space? (E.g. what words are most similar to _the_, _dog_, _3_, and _good_?)\n",
        "\n",
        "2. How does the size of the LSA representation affect this behavior?\n",
        "\n",
        "\n",
        "3. Recall that the we can compute the word co-occurrence matrix $W_{tt} = W_    \n",
        "   {td} W_{td}^\\top$. What can you prove about the relationship between the    \n",
        "   left singular vectors of $W_{td}$ and $W_{tt}$? Do you observe this behavior \n",
        "   with your implementation of `learn_reps_lsa`? Why or why not?\n",
        "\n",
        "4. Do learned representations help with the review classification problem? What\n",
        "   is the relationship between the number of labeled examples and the effect of\n",
        "   word embeddings?\n",
        "   \n",
        "5. What is the relationship between the size of the word embeddings and their      usefulness for the classification task."
      ]
    },
    {
      "cell_type": "markdown",
      "metadata": {
        "id": "AxfunCYh5nmZ",
        "colab_type": "text"
      },
      "source": [
        "## Part 2: word representations via language modeling\n",
        "\n",
        "In this section, we'll train a word embedding model with a word2vec-style objective rather than a matrix factorization objective. This requires a little more work; we've provided scaffolding for a PyTorch model implementation below.\n",
        "(If you've never used PyTorch before, there are some tutorials [here](https://pytorch.org/tutorials/). You're also welcome to implement these experiments in\n",
        "any other framework of your choosing.)"
      ]
    },
    {
      "cell_type": "code",
      "metadata": {
        "id": "M1napibQ6aub",
        "colab_type": "code",
        "colab": {}
      },
      "source": [
        "import torch\n",
        "import torch.nn as nn\n",
        "import torch.nn.functional as F\n",
        "import torch.optim as optim\n",
        "import torch.utils.data as torch_data\n",
        "\n",
        "class Word2VecModel(nn.Module):\n",
        "  # A torch module implementing a word2vec predictor. The `forward` function\n",
        "  # should take a batch of context word ids as input and predict the word \n",
        "  # in the middle of the context as output, as in the CBOW model from lecture.\n",
        "\n",
        "  def __init__(self, vocab_size, embed_dim):\n",
        "      super().__init__()\n",
        "\n",
        "      self.vocab_size = vocab_size\n",
        "      self.embed_dim  = embed_dim\n",
        "\n",
        "      self.V = nn.Linear(vocab_size, embed_dim, bias=False)\n",
        "      self.U   = nn.Linear(embed_dim, vocab_size, bias=False)\n",
        "\n",
        "      # Your code here!\n",
        "      pass\n",
        "\n",
        "  def convert_average_input(self,context):\n",
        "      # Context is an `n_batch x n_context` matrix\n",
        "      window_size = len(context[0])/2.\n",
        "      n_batch = len(context)\n",
        "      x = torch.zeros([n_batch, self.vocab_size])\n",
        "      for iexample, example in enumerate(context):\n",
        "        #x[iexample, [example]] += 1./(2*window_size) #this is more compact to write\n",
        "        for iword, word in enumerate(example):\n",
        "          x[iexample, word] += 1./(2*window_size)\n",
        "      \n",
        "      return x\n",
        "\n",
        "  def forward(self, context):\n",
        "      # Context is an `n_batch x n_context` matrix of integer word ids\n",
        "      # this function should return a set of scores for predicting the word \n",
        "      # in the middle of the context\n",
        "\n",
        "      # first create sparse matrix, then average n_context\n",
        "      x = self.convert_average_input(context)\n",
        "      # multiply by V matrix\n",
        "      x = self.V(x)\n",
        "      # multiply by U matrix\n",
        "      x = self.U(x)\n",
        "      return x\n",
        "\n",
        "  def get_embedding(self):\n",
        "        \n",
        "      return self.V.weight\n",
        "\n"
      ],
      "execution_count": 0,
      "outputs": []
    },
    {
      "cell_type": "code",
      "metadata": {
        "id": "ePgZlityuWr3",
        "colab_type": "code",
        "colab": {}
      },
      "source": [
        "def convert_label(context, vocab_size):\n",
        "      # Context is an `n_batch x n_context` matrix\n",
        "      n_batch = len(context)\n",
        "      x = np.zeros(n_batch, vocab_size)\n",
        "      for iword, word in enumerate(context):\n",
        "          x[iword, word] += 1.\n",
        "      \n",
        "      return x\n",
        "\n",
        "def learn_reps_word2vec(corpus, window_size, rep_size, n_epochs, n_batch):\n",
        "  # This method takes in a corpus of training sentences. It returns a matrix of\n",
        "  # word embeddings with the same structure as used in the previous section of \n",
        "  # the assignment. (You can extract this matrix from the parameters of the \n",
        "  # Word2VecModel.)\n",
        "\n",
        "  tokenizer = lab_util.Tokenizer()\n",
        "  tokenizer.fit(corpus)\n",
        "  tokenized_corpus = tokenizer.tokenize(corpus)\n",
        "\n",
        "  ngrams = lab_util.get_ngrams(tokenized_corpus, window_size)\n",
        "\n",
        "  #device = torch.device('cuda')  # run on colab gpu\n",
        "  model = Word2VecModel(tokenizer.vocab_size, rep_size) #.to(device)\n",
        "  opt = optim.Adam(model.parameters(), lr=0.001)\n",
        "  criterion = nn.CrossEntropyLoss() \n",
        "\n",
        "      \n",
        "\n",
        "  loader = torch_data.DataLoader(ngrams, batch_size=n_batch, shuffle=True)\n",
        "\n",
        "  for epoch in range(n_epochs):\n",
        "    print(\"epoch \", epoch)\n",
        "    for context, label in loader:\n",
        "      # as described above, `context` is a batch of context word ids, and\n",
        "      # `label` is a batch of predicted word labels\n",
        "\n",
        "      opt.zero_grad()\n",
        "      output = model(context)\n",
        "      #label_conv = convert_label(label, tokenizer.vocab_size) # cross entropy does this for me\n",
        "\n",
        "      \n",
        "      loss = criterion(output, label) \n",
        "      loss.backward()\n",
        "      opt.step()\n",
        "      # Your code here!\n",
        "\n",
        "  torch.save(model.state_dict(), '2_25')\n",
        "\n",
        "  # reminder: you want to return a `vocab_size x embedding_size` numpy array\n",
        "  embedding_matrix = model.get_embedding()\n",
        "  return embedding_matrix\n",
        "  # Your code here!"
      ],
      "execution_count": 0,
      "outputs": []
    },
    {
      "cell_type": "code",
      "metadata": {
        "id": "aaUy1cNuB3W1",
        "colab_type": "code",
        "colab": {
          "base_uri": "https://localhost:8080/",
          "height": 191
        },
        "outputId": "8ae45657-bf54-469b-db2c-e750b1208407"
      },
      "source": [
        "reps_word2vec_tr = learn_reps_word2vec(train_reviews, 2, 500, 10, 100) #reps_word2vec = learn_reps_word2vec(train_reviews, 2, 500, 10, 100)\n",
        "reps_word2vec = reps_word2vec_tr.data.numpy().T"
      ],
      "execution_count": 18,
      "outputs": [
        {
          "output_type": "stream",
          "text": [
            "epoch  0\n",
            "epoch  1\n",
            "epoch  2\n",
            "epoch  3\n",
            "epoch  4\n",
            "epoch  5\n",
            "epoch  6\n",
            "epoch  7\n",
            "epoch  8\n",
            "epoch  9\n"
          ],
          "name": "stdout"
        }
      ]
    },
    {
      "cell_type": "code",
      "metadata": {
        "id": "qHH1dXEeCZQD",
        "colab_type": "code",
        "colab": {
          "base_uri": "https://localhost:8080/",
          "height": 52
        },
        "outputId": "6459043c-3318-4863-ea42-e053999790b3"
      },
      "source": [
        "print(type(vectorizer.tokenizer), type(reps_word2vec), type(show_tokens))\n",
        "print(reps_word2vec.shape)\n"
      ],
      "execution_count": 19,
      "outputs": [
        {
          "output_type": "stream",
          "text": [
            "<class 'lab_util.Tokenizer'> <class 'numpy.ndarray'> <class 'list'>\n",
            "(2006, 500)\n"
          ],
          "name": "stdout"
        }
      ]
    },
    {
      "cell_type": "markdown",
      "metadata": {
        "id": "O3oE-tpR7I39",
        "colab_type": "text"
      },
      "source": [
        "After training the embeddings, we can try to visualize the embedding space to see if it makes sense. First, we can take any word in the space and check its closest neighbors."
      ]
    },
    {
      "cell_type": "code",
      "metadata": {
        "id": "yMW4QND56bHF",
        "colab_type": "code",
        "colab": {
          "base_uri": "https://localhost:8080/",
          "height": 746
        },
        "outputId": "f7cd5ba2-655d-480d-f7ab-5b6370be53e6"
      },
      "source": [
        "lab_util.show_similar_words(vectorizer.tokenizer, reps_word2vec, show_tokens)"
      ],
      "execution_count": 20,
      "outputs": [
        {
          "output_type": "stream",
          "text": [
            "good 47\n",
            "  great 0.868\n",
            "  decent 0.982\n",
            "  bad 1.082\n",
            "  disgusting 1.092\n",
            "  fantastic 1.112\n",
            "bad 201\n",
            "  good 1.082\n",
            "  awful 1.092\n",
            "  overpowering 1.147\n",
            "  terrible 1.175\n",
            "  acidic 1.221\n",
            "cookie 504\n",
            "  range 1.322\n",
            "  covered 1.326\n",
            "  berry 1.338\n",
            "  lover 1.340\n",
            "  bisquick 1.365\n",
            "jelly 351\n",
            "  bears 1.193\n",
            "  pork 1.255\n",
            "  sized 1.267\n",
            "  san 1.278\n",
            "  coffees 1.289\n",
            "dog 925\n",
            "  cat 0.844\n",
            "  baby 1.028\n",
            "  cats 1.218\n",
            "  breed 1.222\n",
            "  son 1.253\n",
            "the 36\n",
            "  mrs 1.073\n",
            "  our 1.269\n",
            "  their 1.283\n",
            "  my 1.287\n",
            "  amazon's 1.336\n",
            "4 292\n",
            "  2 0.792\n",
            "  5 0.978\n",
            "  10 1.045\n",
            "  3 1.096\n",
            "  75 1.114\n"
          ],
          "name": "stdout"
        }
      ]
    },
    {
      "cell_type": "markdown",
      "metadata": {
        "id": "ue-9CPSc7fi9",
        "colab_type": "text"
      },
      "source": [
        "We can also cluster the embedding space. Clustering in 4 or more dimensions is hard to visualize, and even clustering in 2 or 3 can be difficult because there are so many words in the vocabulary. One thing we can try to do is assign cluster labels and qualitiatively look for an underlying pattern in the clusters."
      ]
    },
    {
      "cell_type": "code",
      "metadata": {
        "id": "v-Yf6NMCXVx4",
        "colab_type": "code",
        "colab": {
          "base_uri": "https://localhost:8080/",
          "height": 1000
        },
        "outputId": "9aac165e-c1b1-43c8-adcf-b0680f0e3f93"
      },
      "source": [
        "from sklearn.cluster import KMeans\n",
        "\n",
        "indices = KMeans(n_clusters=10).fit_predict(reps_word2vec)\n",
        "zipped = list(zip(range(vectorizer.tokenizer.vocab_size), indices))\n",
        "np.random.shuffle(zipped)\n",
        "zipped = zipped[:100]\n",
        "zipped = sorted(zipped, key=lambda x: x[1])\n",
        "for token, cluster_idx in zipped:\n",
        "  word = vectorizer.tokenizer.token_to_word[token]\n",
        "  print(f\"{word}: {cluster_idx}\")"
      ],
      "execution_count": 21,
      "outputs": [
        {
          "output_type": "stream",
          "text": [
            "gives: 0\n",
            "anywhere: 0\n",
            "claims: 0\n",
            "left: 0\n",
            "took: 0\n",
            "came: 0\n",
            "citrus: 1\n",
            "horrible: 1\n",
            "test: 1\n",
            "serious: 1\n",
            "palatable: 1\n",
            "lot: 1\n",
            "much: 1\n",
            "tough: 1\n",
            "twist: 1\n",
            "nutritious: 1\n",
            "difficult: 1\n",
            "low: 1\n",
            "bottle: 2\n",
            "complete: 2\n",
            "worth: 2\n",
            "chewy: 3\n",
            "reduced: 3\n",
            "about: 3\n",
            "tin: 3\n",
            "such: 3\n",
            "tasting: 3\n",
            "maybe: 3\n",
            "decaffeinated: 3\n",
            "bears: 3\n",
            "like: 3\n",
            "than: 3\n",
            "worst: 3\n",
            "i: 4\n",
            "unfortunately: 4\n",
            "she: 4\n",
            "trouble: 4\n",
            "barely: 4\n",
            "fell: 4\n",
            "second: 4\n",
            "today: 4\n",
            "described: 4\n",
            "baby: 5\n",
            "watching: 5\n",
            "mother: 5\n",
            "date: 5\n",
            "puppy: 5\n",
            "toddler: 5\n",
            "guests: 5\n",
            "co: 5\n",
            "health: 5\n",
            "weight: 5\n",
            "sunflower: 6\n",
            "irish: 6\n",
            "potato: 6\n",
            "paste: 6\n",
            "dip: 6\n",
            "dressing: 6\n",
            "mustard: 6\n",
            "chunks: 6\n",
            "allergy: 6\n",
            "peanuts: 6\n",
            "chocolates: 6\n",
            "sesame: 6\n",
            "egg: 6\n",
            "cereal: 6\n",
            "mint: 6\n",
            "grain: 6\n",
            "spinach: 6\n",
            "beef: 6\n",
            "placed: 7\n",
            "paying: 7\n",
            "disappointed: 7\n",
            "contacted: 7\n",
            "decided: 7\n",
            "craving: 7\n",
            "remaining: 7\n",
            "wait: 8\n",
            "enjoy: 8\n",
            "become: 8\n",
            "write: 8\n",
            "figure: 8\n",
            "remember: 8\n",
            "speak: 8\n",
            "state: 8\n",
            "fit: 8\n",
            "touch: 8\n",
            "lid: 9\n",
            "kind: 9\n",
            "stuff: 9\n",
            "flavour: 9\n",
            "beverage: 9\n",
            "thats: 9\n",
            "clear: 9\n",
            "quantity: 9\n",
            "design: 9\n",
            "thing: 9\n",
            "switch: 9\n",
            "shape: 9\n",
            "shows: 9\n"
          ],
          "name": "stdout"
        }
      ]
    },
    {
      "cell_type": "markdown",
      "metadata": {
        "id": "ci1TkENU78Wn",
        "colab_type": "text"
      },
      "source": [
        "Finally, we can use the trained word embeddings to construct vector representations of full reviews. One common approach is to simply average all the word embeddings in the review to create an overall embedding. Implement the transform function in Word2VecFeaturizer to do this."
      ]
    },
    {
      "cell_type": "code",
      "metadata": {
        "id": "kMTEKyeCGZYL",
        "colab_type": "code",
        "colab": {}
      },
      "source": [
        ""
      ],
      "execution_count": 0,
      "outputs": []
    },
    {
      "cell_type": "code",
      "metadata": {
        "id": "A5vjmRV6Dgbu",
        "colab_type": "code",
        "colab": {
          "base_uri": "https://localhost:8080/",
          "height": 104
        },
        "outputId": "a91af427-a7a3-4beb-d46d-61721b8ed579"
      },
      "source": [
        "def lsa_featurizer(xs):\n",
        "\n",
        "  xs = (xs.T * idf).T #tfidf\n",
        "  \n",
        "  print(xs.shape, reps_word2vec.shape)\n",
        "  feats = None # Your code here\n",
        "  #xs_average = np.average()\n",
        "  feats = np.dot(xs,reps_word2vec)\n",
        "\n",
        "  # normalize\n",
        "  return feats / np.sqrt((feats ** 2).sum(axis=1, keepdims=True))\n",
        "\n",
        "training_experiment(\"word2vec\", lsa_featurizer, 3000)"
      ],
      "execution_count": 36,
      "outputs": [
        {
          "output_type": "stream",
          "text": [
            "word2vec features, 3000 examples\n",
            "(3000, 2006) (2006, 500)\n",
            "(500, 2006) (2006, 500)\n",
            "test accuracy 0.804\n",
            "\n"
          ],
          "name": "stdout"
        }
      ]
    },
    {
      "cell_type": "markdown",
      "metadata": {
        "id": "XSfoQbxaXtfH",
        "colab_type": "text"
      },
      "source": [
        "**Part 2: Lab writeup**\n",
        "\n",
        "Part 2 of your lab report should discuss any implementation details that were important to filling out the code above. Then, use the code to set up experiments that answer the following questions:\n",
        "\n",
        "1. Qualitatively, what do you observe about nearest neighbors in representation space? (E.g. what words are most similar to _the_, _dog_, _3_, and _good_?) How well do word2vec representations correspond to your intuitions about word similarity?\n",
        "\n",
        "2. One important parameter in word2vec-style models is context size. How does changing the context size affect the kinds of representations that are learned?\n",
        "\n",
        "3. How do results on the downstream classification problem compare to \n",
        "   part 1?\n",
        "\n",
        "4. What are some advantages and disadvantages of learned embedding representations, relative to the featurization done in part 1?\n",
        "\n",
        "5. What are some potential problems with constructing a representation of the review by averaging the embeddings of the individual words?"
      ]
    }
  ]
}